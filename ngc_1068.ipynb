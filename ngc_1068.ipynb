{
 "cells": [
  {
   "cell_type": "code",
   "execution_count": 65,
   "metadata": {},
   "outputs": [],
   "source": [
    "from astropy.io import fits\n",
    "from astropy.table import Table\n",
    "import matplotlib.pyplot as plt\n",
    "import numpy as np"
   ]
  },
  {
   "cell_type": "markdown",
   "metadata": {},
   "source": [
    "## Chandra NGC-1068\n",
    "\n",
    "https://heasarc.gsfc.nasa.gov/FTP/chandra/data/byobsid/8//11358/\n"
   ]
  },
  {
   "cell_type": "code",
   "execution_count": 26,
   "metadata": {},
   "outputs": [
    {
     "name": "stdout",
     "output_type": "stream",
     "text": [
      "Filename: data/ngc1068-chandra.fits\n",
      "No.    Name      Ver    Type      Cards   Dimensions   Format\n",
      "  0  PRIMARY       1 PrimaryHDU      34   ()      \n",
      "  1  EVENTS        1 BinTableHDU   1064   39933R x 20C   [1D, 1J, 1I, 1I, 1I, 1I, 1I, 1I, 1E, 1E, 1E, 1E, 25I, 1J, 1J, 1E, 1J, 1I, 1I, 32X]   \n",
      "  2  GTI           7 BinTableHDU     28   1R x 2C   [1D, 1D]   \n",
      "  3  GTI           4 BinTableHDU     28   1R x 2C   [1D, 1D]   \n",
      "  4  GTI           5 BinTableHDU     28   1R x 2C   [1D, 1D]   \n",
      "  5  GTI           6 BinTableHDU     28   1R x 2C   [1D, 1D]   \n",
      "  6  GTI           8 BinTableHDU     28   2R x 2C   [1D, 1D]   \n",
      "  7  GTI           9 BinTableHDU     28   1R x 2C   [1D, 1D]   \n"
     ]
    },
    {
     "name": "stdout",
     "output_type": "stream",
     "text": [
      "None\n",
      "<TableColumns names=('time','expno','ccd_id','node_id','chipx','chipy','tdetx','tdety','detx','dety','x','y','phas','pha','pha_ro','energy','pi','fltgrade','grade','status')>\n"
     ]
    }
   ],
   "source": [
    "with fits.open(\"data/ngc1068-chandra.fits\") as hdu_list:\n",
    "    print(hdu_list.info())\n",
    "    \n",
    "    events = Table.read(hdu_list, hdu=1)\n",
    "    print(events.columns)\n"
   ]
  },
  {
   "cell_type": "code",
   "execution_count": 66,
   "metadata": {},
   "outputs": [
    {
     "name": "stdout",
     "output_type": "stream",
     "text": [
      "<TableColumns names=('time','expno','ccd_id','node_id','chipx','chipy','tdetx','tdety','detx','dety','x','y','phas','pha','pha_ro','energy','pi','fltgrade','grade','status','ra','dec')>\n"
     ]
    },
    {
     "name": "stderr",
     "output_type": "stream",
     "text": [
      "/tmp/ipykernel_8980/2044880199.py:3: RuntimeWarning: invalid value encountered in sqrt\n",
      "  dec = np.arctan2(events['tdety'], np.sqrt(events['tdetx']**2 + events['tdety']**2)) * (180.0 / np.pi)\n"
     ]
    }
   ],
   "source": [
    "# Add RA and DEC\n",
    "ra = np.arctan2(events['tdetx'], events['tdety']) * (180.0 / np.pi)\n",
    "dec = np.arctan2(events['tdety'], np.sqrt(events['tdetx']**2 + events['tdety']**2)) * (180.0 / np.pi)\n",
    "\n",
    "events['ra'] = ra\n",
    "events['dec'] = ra\n",
    "\n",
    "print(events.columns)"
   ]
  },
  {
   "cell_type": "code",
   "execution_count": 68,
   "metadata": {},
   "outputs": [
    {
     "name": "stdout",
     "output_type": "stream",
     "text": [
      "{4, 5, 6, 7, 8, 9}\n"
     ]
    },
    {
     "data": {
      "image/png": "[encoded data removed]",
      "text/plain": [
       "<Figure size 640x480 with 2 Axes>"
      ]
     },
     "metadata": {},
     "output_type": "display_data"
    }
   ],
   "source": [
    "mask = events['ccd_id'] == 9\n",
    "\n",
    "print(set([c for c in events['ccd_id']]))\n",
    "\n",
    "events_filtered = events[mask]\n",
    "\n",
    "ra, dec = events_filtered['ra'], events_filtered['dec']\n",
    "plt.hist2d(ra, dec, bins=(100, 100), cmap='gray')\n",
    "#x, y = events_filtered['x'], events_filtered['y']\n",
    "#plt.hist2d(x, y, bins=(100, 100), cmap='gray')\n",
    "plt.colorbar()\n",
    "plt.show()"
   ]
  },
  {
   "cell_type": "code",
   "execution_count": 30,
   "metadata": {},
   "outputs": [
    {
     "name": "stdout",
     "output_type": "stream",
     "text": [
      "tdetx\n",
      " pix \n",
      "-----\n",
      " 1738\n",
      "  878\n",
      " 4720\n",
      " 4618\n",
      " 4138\n",
      " 4154\n",
      " 4643\n",
      " 3923\n",
      " 4710\n",
      " 4745\n",
      "  ...\n",
      " 2472\n",
      " 2284\n",
      " 2538\n",
      " 2234\n",
      " 2453\n",
      " 2146\n",
      " 2362\n",
      " 2804\n",
      " 1908\n",
      " 2094\n",
      "Length = 39933 rows\n"
     ]
    }
   ],
   "source": [
    "print(events['tdetx'])"
   ]
  },
  {
   "cell_type": "markdown",
   "metadata": {},
   "source": [
    "## MUSE NGC-1068\n",
    "MUSE - WALCHER, C.J."
   ]
  }
 ],
 "metadata": {
  "kernelspec": {
   "display_name": "env",
   "language": "python",
   "name": "python3"
  },
  "language_info": {
   "codemirror_mode": {
    "name": "ipython",
    "version": 3
   },
   "file_extension": ".py",
   "mimetype": "text/x-python",
   "name": "python",
   "nbconvert_exporter": "python",
   "pygments_lexer": "ipython3",
   "version": "3.11.5"
  }
 },
 "nbformat": 4,
 "nbformat_minor": 2
}
